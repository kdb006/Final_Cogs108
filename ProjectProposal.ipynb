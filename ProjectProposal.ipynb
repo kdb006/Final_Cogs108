{
 "cells": [
  {
   "cell_type": "markdown",
   "metadata": {},
   "source": [
    "# COGS 108 - Project Proposal"
   ]
  },
  {
   "cell_type": "markdown",
   "metadata": {},
   "source": [
    "## Important\n",
    "\n",
    "- Make sure all group members (3-6 people) are listed in the group members section.\n",
    "- ONE, and only one, member of your group should upload this notebook to TritonED. \n",
    "- Each member of the group will receive the same grade on this assignment. \n",
    "- Keep the file name the same: submit the file 'ProjectProposal.ipynb'"
   ]
  },
  {
   "cell_type": "markdown",
   "metadata": {},
   "source": [
    "## Overview"
   ]
  },
  {
   "cell_type": "markdown",
   "metadata": {},
   "source": [
    "Read the project description and detailed instructions for this assignment in the 'ProjectOutline' document."
   ]
  },
  {
   "cell_type": "markdown",
   "metadata": {},
   "source": [
    "## Group Members: Fill in the Student IDs of each group member here\n",
    "\n",
    "Replace the lines below to list each persons full student ID. Add lines as needed for your group size, and make sure each ID is listed on a separate line. \n",
    "\n",
    "Ellis Lee A92029710\n",
    "Kevin Gonzalez A99090166\n",
    "Areli Lira A12125926\n",
    "Khoa Bui A12641103\n",
    "Alina Chin A13358627"
   ]
  },
  {
   "cell_type": "markdown",
   "metadata": {},
   "source": [
    "### Research Question\n",
    "\n",
    "What is your research question? (1-2 sentences)"
   ]
  },
  {
   "cell_type": "markdown",
   "metadata": {},
   "source": [
    "We want to know what are the best predictors of suicide both globally and for Canada. We also want to know the change of suicide rates across ages, countries, and generations."
   ]
  },
  {
   "cell_type": "markdown",
   "metadata": {},
   "source": [
    "### Hypothesis\n",
    "\n",
    "What is your main hypothesis and predictions? (2-3 sentences)"
   ]
  },
  {
   "cell_type": "markdown",
   "metadata": {},
   "source": [
    "We hypothesize that the GDP of the country will be the best predictor for suicide. Happiness index, generation, will play a role, but might not be as significant as GDP. For Canada, we hypothesize a combination of economic factors, as well as health, will be the best predictors for suicide. "
   ]
  },
  {
   "cell_type": "markdown",
   "metadata": {},
   "source": [
    "### Dataset(s)\n",
    "\n",
    "What data will you use to answer your question? Describe the dataset(s) in terms of number of observations, what kind of features it contains, etc. You must use at least one dataset containing at least approximately 1000 observations (if your data are smaller but you feel they are sufficient, email Prof. Keown). You are welcome (and in fact recommended) to find multiple datasets! If you do so, describe each one, and briefly explain how you will combine them together. "
   ]
  },
  {
   "cell_type": "markdown",
   "metadata": {},
   "source": [
    "The first dataset\n",
    "Dataset Name: Suicide Rates Overview 1985 to 2016\n",
    "-Link to the dataset: https://www.kaggle.com/russellyates88/suicide-rates-overview-1985-to-2016\n",
    "\n",
    "-Number of observations::  27.8k x 12\n",
    "\n",
    "-Description: This dataset contains suicide rates for different countries, as well as variables such as generation, age, GDP, and happiness index.\n",
    "\n",
    "The second dataset\n",
    "-Dataset 2 Name: Health Nutrition and Population Statistics\n",
    "\n",
    "-Link to dataset:https://www.kaggle.com/theworldbank/health-nutrition-and-population-statistics\n",
    "\n",
    "-Number of observations: ~ 89k x 50\n",
    "\n",
    "-Description: This dataset contains 345 indicators across 263 countries. \n",
    "\n",
    "We plan to use the suicide rates dataset to create initial predictions, and then do an in depth analysis of different indicators for Canada. We will extract the indicators from Canada and match them with the suicide rates in the first dataset. \n"
   ]
  },
  {
   "cell_type": "markdown",
   "metadata": {},
   "source": [
    "### Background and Prior Work\n",
    "\n",
    "Why is this question of interest, what background information led you to your hypothesis, and why is this important?\n",
    "\n",
    "Find some relevant prior work, and reference those sources. Even if you think you have a totally novel question, find the most similar prior work that you can and discuss how it relates to your project. \n",
    "\n",
    "References can be research publications, but they need not be. Blogs, github repositories, company websites, etc., are all viable references if they are relevant to your project.\n",
    "\n",
    "(2-3 paragraphs, including at least 2 references)"
   ]
  },
  {
   "cell_type": "markdown",
   "metadata": {},
   "source": [
    "Suicides rates have been on the rise in the United States1. Understanding what factors are most correlated with suicide is important to enact laws and create more welcoming enviornments. We believe GDP will be the best predictor for suicide rates due to its connection with the econmy and people’s livelihood. Okun’s law states that an increase of unemployment by 1% leads to a decrease of gdp by 2%2. The CDC stated that financial, loss of housing, and upcoming crisis contribute to suicide. Unemployment could lead to these factors, and therefore GDP could be a good predictor for suicide.\n",
    "Rupa Lahiri did an analysis similar to what we’re trying to accomplish. He did basic analysis in many different datasets, including the ones we’re using. We want to expand his work by combining them and expanding on the exploratory and data analysis.\n",
    "\n",
    "1)https://www.cdc.gov/vitalsigns/suicide/\n",
    "\n",
    "2)https://pdfs.semanticscholar.org/338c/cfe9202d2cddf68ed6338050409e117c5fc7.pdf\n",
    "\n",
    "3)https://www.kaggle.com/rblcoder/mental-health-happiness-economics-human-freedom"
   ]
  },
  {
   "cell_type": "markdown",
   "metadata": {},
   "source": [
    "### Proposed Methods\n",
    "\n",
    "What methods will you use to analyze your data?\n",
    "\n",
    "- How 'clean' is the data? To the extent that it requires cleaning, how will you do so?\n",
    "- How will you analyze the data? Be as specific as you can. Briefly mention any pre-processing steps that are required for your methods (for example, checking data distributions and performing any transformations that may be required). Include a brief outline of how you will apply your chosen method(s). \n",
    "- What do you plan to report? Briefly mention any key visualizations you plan to create, and/or the kind of results you will be able to report that address your question (this could be, for example, the outcome of some statistical test(s), prediction error on a model, a model fit parameter, etc.).\n",
    "- Include a list of packages you expect to use for you project. If you plan to use packages we have not used in class, add a very brief description about them (a few words is sufficient). "
   ]
  },
  {
   "cell_type": "markdown",
   "metadata": {},
   "source": [
    "Data cleaning:\n",
    "We will generate dummy variables for categorical indicators such as sex, age, and generation. Observations with many missing observations will be eliminated from the analysis. For the in depth analysis of Canada, We will extract the indicators and create a combined dataset, thus eliminating all other countries.\n",
    "\n",
    "Data Analysis:\n",
    "For the multicountry analysis, we will generate correlations, descriptives, as well as simple correlations to understand the basic relationship between variables. We will find the best predictor through linear regression and then use random forest to create an overall model and test its accuracy.\n",
    "For the in depth Canada analysis, We will curate the list of 345 indicators to a handful of interest. Data transformation and variable selection will be performed before generating a final model and calculating its performance using RMSE.\n",
    "What to report:\n",
    "We will report basic exploratory analysis graphs indicating how suicide has changed over time and how it has changed depending on different indicators. We would also like to create more visual data that includes maps. We will also include our final model with its RMSE and our conclusions.\n",
    "Packages:\n",
    "Numpy, Pandas, seaborn, scikit-learn,matplotlib,scipy, and others if necessary.\n"
   ]
  },
  {
   "cell_type": "markdown",
   "metadata": {},
   "source": [
    "### Ethics and Privacy\n",
    "\n",
    "Briefly acknowledge and address any potential issues of ethics and privacy for the proposed project. In particular:\n",
    "- Do you have permission to use this data, for this purpose?\n",
    "- Are there privacy concerns regarding your datasets that you need to deal with, and/or terms of use that you need to comply with?\n",
    "- Are there potential biases in your dataset(s), in terms of who it composes, and how it was collected, that may be problematic in terms of it allowing for equitable analysis? (For example, does your data exclude particular populations, or is it likely to reflect particular human biases in a way that could be a problem?) \n",
    "- Are there any other issues related to your topic area, data, and/or analyses that are potentially problematic in terms of data privacy and equitable impact?\n",
    "- How will you handle any issues you identify?\n",
    "\n",
    "The data we are using comes from the Kaggle website and the information in the set was collected through several different sources which include World Health Organization who released the information as a resource for governments and policy makers to establish suicide prevention strategies. We are using this dataset for exploration and to see which factors better predict suicide, which was the intended use by the WHO. Given that this data was collected by a reputable source we can assume that it contains no biases or exclusions that would interfere with the results of our exploration.\n",
    "        \tSuicide is a very delicate subject and a result there are many possible ethical and privacy issues that we may encounter in our research. One of the main issues that may arise from using this dataset would be in terms of privacy violation, however, this would have been more of a problem if we had collected the data ourselves, but it came from the WHO and looking through the dataset, there is no information included that would violate anyone’s privacy. Our research and analysis with this data should not in any way be assumed to be a full picture of the indicators for suicide. It is simply an overview on possible factors that may have a role in why someone commits suicide. Lastly, we want to remind everyone of the national suicide prevention lifeline website https://suicidepreventionlifeline.org and phone 1-800-273-8255."
   ]
  },
  {
   "cell_type": "markdown",
   "metadata": {},
   "source": [
    "### Discussion\n",
    "\n",
    "Discuss your project, looking forward to what your results might mean, how they fit it in with what is already known, and what problems you may encounter. \n",
    "\n",
    "In particular:\n",
    "- If your analyses and hypotheses are correct, what will be the contribution of this project to the topic domain? \n",
    "- Alternatively, what will you do if you methods don't work and/or your hypotheses are wrong? \n",
    "- What are the potential pitfalls and potential confounds of your data and/or methods that may cause problems, and/or influence your interpretations?\n",
    "\n",
    "(2-3 paragraphs)"
   ]
  },
  {
   "cell_type": "markdown",
   "metadata": {},
   "source": [
    "The objective of this analyses and hypotheses are to estimate the features of suicide rate and its association with economic development. If our analysis and hypotheses are correct, we would be shedding light on different factors that may affect a persons’ decision to commit suicide and in doing so help implement different suicide prevention strategies in our communities. In specific, our hypotheses are looking at GDP as well as health as our best predicted indicators of suicide and this information could be used to implement policy change at a higher level. Even if our hypotheses end up being incorrect, we would still uncover potential factors leading up to suicide, which would in turn show us were there is potential for improvement in peoples’ quality of life and it might be useful in future research\n",
    "A potential pitfall of our analysis may be that we are generalizing factors for suicide across different countries. What may be a factor in one specific country may not be the same in a different one. Cultural values and schemas could affect the suicide rate, which is something we are not accounting for here. \n"
   ]
  }
 ],
 "metadata": {
  "kernelspec": {
   "display_name": "py36-test",
   "language": "python",
   "name": "py36-test"
  },
  "language_info": {
   "codemirror_mode": {
    "name": "ipython",
    "version": 2
   },
   "file_extension": ".py",
   "mimetype": "text/x-python",
   "name": "python",
   "nbconvert_exporter": "python",
   "pygments_lexer": "ipython2",
   "version": "2.7.3"
  }
 },
 "nbformat": 4,
 "nbformat_minor": 2
}
