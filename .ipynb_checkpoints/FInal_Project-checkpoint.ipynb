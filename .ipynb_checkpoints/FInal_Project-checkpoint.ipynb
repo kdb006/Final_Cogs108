{
 "cells": [
  {
   "cell_type": "code",
   "execution_count": null,
   "metadata": {},
   "outputs": [],
   "source": [
    "# Final Project\n",
    "# Ellis Lee A92029710\n",
    "# Kevin Gonzalez A99090166\n",
    "# Areli Lira A12125926 \n",
    "# Khoa Bui A12641103\n",
    "# Alina Chin A13358627\n",
    "import pandas as pd\n",
    "import numpy as np\n",
    "import matplotlib.pyplot as plt\n",
    "import seaborn as sns\n",
    "import patsy\n",
    "import statsmodels.api as sm\n",
    "from sklearn import preprocessing"
   ]
  },
  {
   "cell_type": "code",
   "execution_count": null,
   "metadata": {},
   "outputs": [],
   "source": [
    "# Read suicide data.\n",
    "data = pd.read_csv('suicide.csv')"
   ]
  },
  {
   "cell_type": "code",
   "execution_count": null,
   "metadata": {},
   "outputs": [],
   "source": [
    "# Drop country-year variable and rename columns. change gdp to numeric\n",
    "data = data.drop(['country-year'],axis=1)\n",
    "data.columns = ['country','year','sex','age','suicides','population',\n",
    "              '100k_suicides','HDI','gdp','gdp_capita','generation']\n",
    "data['gdp'] = pd.to_numeric([a['gdp'].replace(',','') for b,a in data.iterrows()])"
   ]
  },
  {
   "cell_type": "code",
   "execution_count": null,
   "metadata": {},
   "outputs": [],
   "source": [
    "# We want to find the percentage of the total population for a given group\n",
    "data['population_est'] = data['population']/(data['gdp']/data['gdp_capita'])\n",
    "data['total_suicide'] = data['100k_suicides'] * 1000"
   ]
  },
  {
   "cell_type": "code",
   "execution_count": null,
   "metadata": {},
   "outputs": [],
   "source": [
    "# will visualize only a couple variables\n",
    "dat = data[['population','gdp','total_suicide']]\n",
    "sns.pairplot(dat)"
   ]
  },
  {
   "cell_type": "code",
   "execution_count": null,
   "metadata": {},
   "outputs": [],
   "source": [
    "data.describe()"
   ]
  },
  {
   "cell_type": "code",
   "execution_count": null,
   "metadata": {},
   "outputs": [],
   "source": [
    "#Lets see how generation affects suicide rates\n",
    "total = pd.DataFrame(data['100k_suicides'].groupby([data['year'],data['generation'],data['sex']]).mean()).reset_index()\n",
    "#We need to fix some and add counts before (for millenials and gen z we need to add 0s before)\n",
    "gens = ['Millenials','Generation Z','G.I. Generation']\n",
    "for g in gens:\n",
    "    for y in range(1985,2017,1):\n",
    "        temp = total[(total['generation']==g) & (total['sex']=='male')]['year']\n",
    "        if int(y) not in np.array(temp):\n",
    "            total = total.append({'year':int(y),'generation':g,'sex':'male','100k_suicides':0} , ignore_index=True)\n",
    "        temp = total[(total['generation']==g) & (total['sex']=='female')]['year']\n",
    "        if int(y) not in np.array(temp):\n",
    "            total = total.append({'year':int(y),'generation':g,'sex':'female','100k_suicides':0} , ignore_index=True)\n",
    "#Boomers are missing 2010\n",
    "totalm = (int(total[(total['generation']=='Boomers') & (total['year']==2009) & (total['sex']=='male')]['100k_suicides']) + \n",
    "          int(total[(total['generation']=='Boomers') & (total['year']==2011) & (total['sex']=='male')]['100k_suicides']))/2\n",
    "total = total.append({'year':2010,'generation':'Boomers','sex':'male','100k_suicides':totalm} , ignore_index=True)\n",
    "totalf = (int(total[(total['generation']=='Boomers') & (total['year']==2009) & (total['sex']=='female')]['100k_suicides']) + \n",
    "         int(total[(total['generation']=='Boomers') & (total['year']==2011) & (total['sex']=='female')]['100k_suicides']))/2\n",
    "total = total.append({'year':2010,'generation':'Boomers','sex':'female','100k_suicides':totalf} , ignore_index=True)"
   ]
  },
  {
   "cell_type": "code",
   "execution_count": null,
   "metadata": {},
   "outputs": [],
   "source": [
    "#Print total suciide by generation and gender\n",
    "plt.stackplot(range(1985,2017),total[(total['sex']=='male') & (total['generation']=='G.I. Generation')]['100k_suicides'],\n",
    "total[(total['sex']=='female') & (total['generation']=='G.I. Generation')]['100k_suicides'],\n",
    "total[(total['sex']=='male') & (total['generation']=='Silent')]['100k_suicides'],\n",
    "total[(total['sex']=='female') & (total['generation']=='Silent')]['100k_suicides'],\n",
    "total[(total['sex']=='male') & (total['generation']=='Boomers')]['100k_suicides'],\n",
    "total[(total['sex']=='female') & (total['generation']=='Boomers')]['100k_suicides'],\n",
    "total[(total['sex']=='male') & (total['generation']=='Generation X')]['100k_suicides'],\n",
    "total[(total['sex']=='female') & (total['generation']=='Generation X')]['100k_suicides'],\n",
    "total[(total['sex']=='male') & (total['generation']=='Millenials')]['100k_suicides'],\n",
    "total[(total['sex']=='female') & (total['generation']=='Millenials')]['100k_suicides'],\n",
    "total[(total['sex']=='male') & (total['generation']=='Generation Z')]['100k_suicides'],\n",
    "total[(total['sex']=='female') & (total['generation']=='Generation Z')]['100k_suicides'],)\n",
    "plt.title('Suicide by year, generation, and sex')\n",
    "plt.legend('Generation and sex')\n",
    "plt.ylabel('total suicide')\n",
    "plt.xlabel('Year')\n",
    "plt.legend(['GI/M','GI,F','Sil/M','Sil/F','Boom/M','Boom/F',\n",
    "            'GenX/M','GenX/F','Mil/M','Mil/F','GenZ/M','GenZ/F'],bbox_to_anchor=(1.05, 1),loc=2,borderaxespad=0.)"
   ]
  },
  {
   "cell_type": "code",
   "execution_count": null,
   "metadata": {},
   "outputs": [],
   "source": [
    "# Now lets see how much HDI, gdp_capita has changed over the years to see if maybe\n",
    "# They correlate with ethe uptick of suicides in 1995-2000 and ~2010\n",
    "dat = data[(data['generation']=='Silent') & (data['sex']=='male')]\n",
    "#temp = pd.DataFrame(dat['gdp_capita'].groupby(dat['year']).mean()).reset_index()\n",
    "#gdp_capita = (temp['gdp_capita']-np.mean(temp['gdp_capita']))/np.std(temp['gdp_capita'])\n",
    "#year = total['year']\n",
    "temp = pd.DataFrame(dat['gdp_capita'].groupby(dat['year']).mean()).reset_index()\n",
    "gdp_capita1 = (temp['gdp_capita']-np.mean(temp['gdp_capita']))/np.std(temp['gdp_capita'])\n",
    "plt.plot(range(1985,2017),gdp_capita1)"
   ]
  },
  {
   "cell_type": "code",
   "execution_count": null,
   "metadata": {},
   "outputs": [],
   "source": [
    "# There is a clear downtrend in suicide after the 2000s. Part of the reason is because\n",
    "# Reporting increased after this.\n",
    "mydict = {}\n",
    "sums = {}\n",
    "for i in range(1985,2017):\n",
    "    mydict[str(i)] = len(dat[dat['year']==i]['gdp_capita'])\n",
    "    sums[str(i)] = np.mean(dat[dat['year']==i]['gdp_capita'])\n",
    "mydict   \n",
    "sums"
   ]
  },
  {
   "cell_type": "code",
   "execution_count": null,
   "metadata": {},
   "outputs": [],
   "source": [
    "# Lets fit a linear model\n",
    "total1 = pd.DataFrame(data['100k_suicides'].groupby([data['year'],data['generation'],data['sex']]).mean()).reset_index()\n",
    "total2 = pd.get_dummies(total1)\n",
    "#total2.drop(['sex_male','generation_Generation Z'], axis=1)\n",
    "total2.columns = total2.columns.str.replace(' ', '')\n",
    "total2.columns = total2.columns.str.replace('.', '')\n",
    "total2.loc[:,'100k_suicides'] = (total2['100k_suicides']-np.mean(total2['100k_suicides']))/np.std(total2['100k_suicides'])\n",
    "total2.columns = total2.columns.str.replace('100k_suicides', 'target')\n",
    "a = 'target ~ ' + ' + '.join(total2.columns[2:])\n",
    "outcome_1, predictors_1 = patsy.dmatrices(a,total2)\n",
    "mod_1 = sm.OLS(outcome_1,predictors_1)\n",
    "res_1 = mod_1.fit()\n",
    "print(res_1.summary())"
   ]
  },
  {
   "cell_type": "code",
   "execution_count": null,
   "metadata": {},
   "outputs": [],
   "source": [
    "#simple model total suicide and total gdp\n",
    "a1,a2 = np.polyfit(data['gdp'],data['total_suicide'],1)"
   ]
  },
  {
   "cell_type": "code",
   "execution_count": null,
   "metadata": {},
   "outputs": [],
   "source": [
    "x_vals = data['gdp']\n",
    "y_vals = a1 * x_vals + a2\n",
    "plt.scatter(x_vals,data['total_suicide'])\n",
    "plt.plot(x_vals,y_vals,'ro' )"
   ]
  },
  {
   "cell_type": "code",
   "execution_count": null,
   "metadata": {},
   "outputs": [],
   "source": [
    "#Looking at the above plot, we can see that suicides are high on low GDP, and overall lower at higher GDP.\n",
    "#linear relationship is not the best, and this model is a poor predictor. Lets try using a second order"
   ]
  },
  {
   "cell_type": "code",
   "execution_count": null,
   "metadata": {},
   "outputs": [],
   "source": [
    "b1,b2,b3 = np.polyfit(data['gdp'],data['total_suicide'],2)"
   ]
  },
  {
   "cell_type": "code",
   "execution_count": null,
   "metadata": {},
   "outputs": [],
   "source": [
    "x_vals = data['gdp']\n",
    "y_vals = b1 * np.power(x_vals,2) + b2 * x_vals + b3\n",
    "plt.scatter(x_vals,data['total_suicide'])\n",
    "plt.plot(x_vals,y_vals,'ro' )"
   ]
  },
  {
   "cell_type": "code",
   "execution_count": null,
   "metadata": {},
   "outputs": [],
   "source": [
    "#We also obtained a poor model here just by looking at it. I think this shows an overall trend, but not a good model"
   ]
  },
  {
   "cell_type": "code",
   "execution_count": null,
   "metadata": {},
   "outputs": [],
   "source": [
    "#simple model total suicide and total gdp\n",
    "c1,c2 = np.polyfit(data['HDI'][~np.isnan(data['HDI'])],data['total_suicide'][~np.isnan(data['HDI'])],1)"
   ]
  },
  {
   "cell_type": "code",
   "execution_count": null,
   "metadata": {},
   "outputs": [],
   "source": [
    "x_vals = data['HDI'][~np.isnan(data['HDI'])]\n",
    "y_vals = c1 * x_vals + c2\n",
    "plt.scatter(x_vals,data['total_suicide'][~np.isnan(data['HDI'])])\n",
    "plt.plot(x_vals,y_vals,'ro' )"
   ]
  },
  {
   "cell_type": "code",
   "execution_count": null,
   "metadata": {},
   "outputs": [],
   "source": [
    "#So despite HDI going up, suicide is going up. why?\n",
    "# The story is not as simple. and there is actually something important missing\n",
    "# When we get the HDI, we actually have no idea of the population size. We are measuring with overall suicide\n",
    "# and get no information abou thhe total population size. In fact, you may see that the line is going up with happiness\n",
    "# index. This may be because happier countries tend to be bigger and not because happier countries have higher suicuide,\n",
    "# lets actually see this"
   ]
  },
  {
   "cell_type": "code",
   "execution_count": null,
   "metadata": {},
   "outputs": [],
   "source": [
    "d1, d2 = np.polyfit(data['HDI'][~np.isnan(data['HDI'])],data['population'][~np.isnan(data['HDI'])],1)\n",
    "x_vals = data['HDI'][~np.isnan(data['HDI'])]\n",
    "y_vals = d1 * x_vals + d2\n",
    "plt.scatter(x_vals,data['population'][~np.isnan(data['HDI'])])\n",
    "plt.plot(x_vals,y_vals,'ro' )\n"
   ]
  },
  {
   "cell_type": "code",
   "execution_count": null,
   "metadata": {},
   "outputs": [],
   "source": [
    "# Lets use suicide rate instead and see the differences.\n",
    "b1,b2 = np.polyfit(data['gdp'],data['100k_suicides'],1)\n",
    "x_vals = data['gdp']\n",
    "y_vals = b1 * x_vals + b2\n",
    "plt.scatter(x_vals,data['100k_suicides'])\n",
    "plt.plot(x_vals,y_vals,'ro' )"
   ]
  },
  {
   "cell_type": "code",
   "execution_count": null,
   "metadata": {},
   "outputs": [],
   "source": [
    "d1, d2 = np.polyfit(data['HDI'][~np.isnan(data['HDI'])],data['100k_suicides'][~np.isnan(data['HDI'])],1)\n",
    "x_vals = data['HDI'][~np.isnan(data['HDI'])]\n",
    "y_vals = d1 * x_vals + d2\n",
    "plt.scatter(x_vals,data['100k_suicides'][~np.isnan(data['HDI'])])\n",
    "plt.plot(x_vals,y_vals,'ro' )"
   ]
  },
  {
   "cell_type": "code",
   "execution_count": null,
   "metadata": {},
   "outputs": [],
   "source": [
    "#We get a somewhat better relationship, but not quite something good"
   ]
  },
  {
   "cell_type": "code",
   "execution_count": null,
   "metadata": {},
   "outputs": [],
   "source": [
    "# Grab other Data\n",
    "dat = pd.read_csv('Data.csv')"
   ]
  },
  {
   "cell_type": "code",
   "execution_count": null,
   "metadata": {},
   "outputs": [],
   "source": [
    "total = pd.DataFrame(data['100k_suicides'].groupby([data['country'],data['year']]).mean()).reset_index()\n",
    "total.head()"
   ]
  },
  {
   "cell_type": "code",
   "execution_count": null,
   "metadata": {},
   "outputs": [],
   "source": [
    "shortlist = [\"Out-of-pocket health expenditure (% of total expenditure on health)\",\"Diabetes prevalence (% of population ages 20 to 79\",\n",
    "             \"Literacy rate, youth total (% of people ages 15-24)\",\"Mortality rate, infant (per 1,000 live births)\",\n",
    "             \"Prevalence of overweight (% of adults)\",\"Prevalence of undernourishment (% of population)\"]\n",
    "replacements = ['health costs','diabetes','literacy','mortality','overweight','undernourishment']\n",
    "dat1 = dat[dat['Indicator Name'].isin(shortlist)]\n",
    "dat1 = dat1.drop(remove, axis=1)\n",
    "dat1 = dat1[dat1.isnull().sum(axis=1)<10]"
   ]
  },
  {
   "cell_type": "code",
   "execution_count": null,
   "metadata": {},
   "outputs": [],
   "source": [
    "remove = ['Country Code','Indicator Code','1960', '1961', '1962', '1963', '1964', '1965', '1966', '1967', '1968', '1969', '1970', '1971', \n",
    " '1972', '1973', '1974', '1975', '1976', '1977', '1978', '1979', '1980', '1981', '1982', '1983',\n",
    " '1984', '1985', '1986']\n",
    "countries = np.unique(data['country'])\n",
    "for i, row in df1.iterrows():\n",
    "    string = row['Indicator Name']\n",
    "    if row['Country Name'] in countries:\n",
    "        val = replacements[shortlist.index(string)]\n",
    "        for i in range(1985,2017):\n",
    "            data[(data['country'] == row['Country Name']) &\n",
    "                (data['year']==i)][val] == row[i]\n",
    "        \n"
   ]
  },
  {
   "cell_type": "code",
   "execution_count": null,
   "metadata": {},
   "outputs": [],
   "source": [
    "final = data.drop(['GDP',\"HDI\",\"gdp_capita\"])\n",
    "dat = data[['health costs','diabetes','literacy','mortality','overweight','undernourishment'.'100k_suicides']]\n",
    "sns.pairplot(dat)"
   ]
  },
  {
   "cell_type": "code",
   "execution_count": null,
   "metadata": {},
   "outputs": [],
   "source": [
    "x_array = np.array(final['health costs','diabetes','literacy','mortality','overweight','undernourishment'])\n",
    "normalized_X = preprocessing.normalize([x_array])\n",
    "outcome_2, predictors_2 = patsy.dmatrices(x_array,final['100k_suicides'])\n",
    "mod_2 = sm.OLS(outcome_2,predictors_2)\n",
    "res_2 = mod_2.fit()\n",
    "print(res_2.summary())"
   ]
  },
  {
   "cell_type": "code",
   "execution_count": null,
   "metadata": {},
   "outputs": [],
   "source": [
    "#So in conclusion, we can see X variables played a big effect."
   ]
  }
 ],
 "metadata": {
  "kernelspec": {
   "display_name": "Kevin",
   "language": "python",
   "name": "kevin"
  },
  "language_info": {
   "codemirror_mode": {
    "name": "ipython",
    "version": 3
   },
   "file_extension": ".py",
   "mimetype": "text/x-python",
   "name": "python",
   "nbconvert_exporter": "python",
   "pygments_lexer": "ipython3",
   "version": "3.7.1"
  }
 },
 "nbformat": 4,
 "nbformat_minor": 2
}
